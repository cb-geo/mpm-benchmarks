{
 "cells": [
  {
   "cell_type": "markdown",
   "metadata": {},
   "source": [
    "# Absorbing Boundary\n",
    "\n",
    "## 1D Column - Displacement Check\n",
    "\n",
    "Final displacement at the bottom of the 1D column should be $u = \\sigma \\delta / E_c$ where \n",
    "\n",
    "| SYMBOL    | DEFINITION                      |\n",
    "|-----------|---------------------------------|\n",
    "| $u$       | displacement                    |\n",
    "| $\\sigma$  | applied vertial stress          |\n",
    "| $\\delta$  | virtual viscous layer thickness |\n",
    "| $E_c$     | constrained Young's modulus     |\n"
   ]
  },
  {
   "cell_type": "code",
   "execution_count": 1,
   "metadata": {
    "tags": []
   },
   "outputs": [
    {
     "name": "stdout",
     "output_type": "stream",
     "text": [
      "=== displacement at bottom center ===\n",
      "EXPECTED : \t 0.00010000\n",
      "MPM : \t\t 0.00009958\n",
      "ERROR : \t 0.422 %\n"
     ]
    }
   ],
   "source": [
    "import pandas as pd\n",
    "\n",
    "# model inputs\n",
    "sigma = 100\n",
    "delta = 0.10\n",
    "E_c   = 100e3\n",
    "\n",
    "# expected displacement\n",
    "disp_exp = sigma * delta / E_c\n",
    "\n",
    "# mateiral point @ bottom center\n",
    "mp_id = 168\n",
    "\n",
    "# initial and final dataframes\n",
    "df_i = pd.read_hdf('results/absorbing-boundary-benchmark/particles00000.h5')\n",
    "df_f = pd.read_hdf('results/absorbing-boundary-benchmark/particles30000.h5')\n",
    "\n",
    "# initial and final position \n",
    "coord_i = df_i['coord_z'][mp_id]\n",
    "coord_f = df_f['coord_z'][mp_id]\n",
    "\n",
    "# mpm displacement\n",
    "disp_mpm = abs(coord_i - coord_f)\n",
    "\n",
    "# error\n",
    "error = abs(disp_mpm - disp_exp) / disp_exp * 100\n",
    "\n",
    "# output\n",
    "print('=== displacement at bottom center ===')\n",
    "print(f'EXPECTED : \\t {disp_exp:.8f}')\n",
    "print(f'MPM : \\t\\t {disp_mpm:.8f}')\n",
    "print(f'ERROR : \\t {error:.3f} %')"
   ]
  }
 ],
 "metadata": {
  "interpreter": {
   "hash": "31f2aee4e71d21fbe5cf8b01ff0e069b9275f58929596ceb00d14d90e3e16cd6"
  },
  "kernelspec": {
   "display_name": "Python 3.8.10 64-bit",
   "name": "python3"
  },
  "language_info": {
   "codemirror_mode": {
    "name": "ipython",
    "version": 3
   },
   "file_extension": ".py",
   "mimetype": "text/x-python",
   "name": "python",
   "nbconvert_exporter": "python",
   "pygments_lexer": "ipython3",
   "version": "3.8.10"
  },
  "orig_nbformat": 2
 },
 "nbformat": 4,
 "nbformat_minor": 2
}
